{
 "cells": [
  {
   "cell_type": "code",
   "execution_count": 22,
   "metadata": {
    "collapsed": false
   },
   "outputs": [],
   "source": [
    "import matplotlib.pyplot as plt  \n",
    "import numpy as np\n",
    "import sympy as sy\n",
    "from sympy import Eq, solve, Symbol, symbols\n",
    "%matplotlib inline"
   ]
  },
  {
   "cell_type": "code",
   "execution_count": 23,
   "metadata": {
    "collapsed": true
   },
   "outputs": [],
   "source": [
    "#Y:GDP\n",
    "#C：民間消費\n",
    "#I:民間投資\n",
    "#G：政府支出\n",
    "#r:利子率\n",
    "#M:名目マネーサプライ\n",
    "#P（＞0）物価水準\n",
    "#L実質貨幣需要\n",
    "#YF完全雇用GDP\n",
    "#■Y = C + I + G\n",
    "\n",
    "#・C = 10 + 0.8 Y\n",
    "#■C = _cv1 + (_cv2*Y)\n",
    "#ex _cv1=10, _cv2=0.8\n",
    "\n",
    "#・I = 60 - 5r \n",
    "#■I = _iv1 + (_iv2*r)\n",
    "#ex  _iv1=60,_iv2=-5\n",
    "#\n",
    "#■ G = 30 \n",
    "\n",
    "#・M / P = L\n",
    "#■M / P = L\n",
    "#■L = _lv1 + (_lv2*Y) + (_lv3*r)\n",
    "#ex  M=800, _lv1=100, _lv2=2, _lv3=-10\n",
    "\n",
    "#■P = (Y / _pv1) + _pv2\n",
    "#ex  _pv1=1500, _v2=0.75\n",
    "\n",
    "#■ YF = 400"
   ]
  },
  {
   "cell_type": "code",
   "execution_count": 54,
   "metadata": {
    "collapsed": false
   },
   "outputs": [
    {
     "name": "stdout",
     "output_type": "stream",
     "text": [
      "eq_consume is Eq(C, 0.8*Y + 10)\n",
      "eq_invest Eq(I, -5*r + 60)\n",
      "eq_gov is Eq(G, 30)\n"
     ]
    }
   ],
   "source": [
    "var_cv1 = 10\n",
    "var_cv2 = 0.8\n",
    "var_iv1 = 60\n",
    "var_iv2 = -5\n",
    "var_G = 30\n",
    "var_M = 800\n",
    "var_lv1 = 100\n",
    "var_lv2 = 2\n",
    "var_lv3 = -10\n",
    "var_pv1 = 1500\n",
    "var_v2 = 0.75\n",
    "var_YF = 400\n",
    "\n",
    "Y, C, I, r, _cv1, _cv2, _iv1, _iv2, G, Gvar, M, L, _lv1, _lv2, _lv3, P, _pv1, _pv2, YF, YFvar = symbols('Y C I r _cv1 _cv2 _iv1 _iv2 G Gvar M L _lv1 _lv2 _lv3 P _pv1 _pv2 YF YFvar')\n",
    "eq1 = Eq(C, _cv1 + (_cv2*Y))\n",
    "eq2 = Eq(I, _iv1 + (_iv2*r))\n",
    "eq3 = Eq(G, Gvar)\n",
    "eq4 = Eq(Y, C + I + G)\n",
    "eq5 = Eq(L, _lv1 + (_lv2*Y) + (_lv3*r))\n",
    "eq6 = Eq(P, (Y / _pv1) + _pv2)\n",
    "eq7 = Eq(M / P, L)\n",
    "eq8 = Eq(YF, YFvar)\n",
    "eq_consume = eq1.subs([(_cv1,var_cv1),(_cv2,var_cv2)])\n",
    "print(\"eq_consume is\",eq_consume)\n",
    "eq_invest = eq2.subs([(_iv1,var_iv1),(_iv2,var_iv2)])\n",
    "print(\"eq_invest\",eq_invest)\n",
    "eq_gov = eq3.subs([(Gvar,var_G)])\n",
    "print(\"eq_gov is\",eq_gov)"
   ]
  },
  {
   "cell_type": "code",
   "execution_count": 30,
   "metadata": {
    "collapsed": false
   },
   "outputs": [
    {
     "data": {
      "text/plain": [
       "Eq(y, 5)"
      ]
     },
     "execution_count": 30,
     "metadata": {},
     "output_type": "execute_result"
    }
   ],
   "source": [
    "x = Symbol('x')\n",
    "y = Symbol('y')\n",
    "a = Eq(y, 2*x + 1)\n",
    "a\n",
    "a.subs(x, 2)"
   ]
  },
  {
   "cell_type": "code",
   "execution_count": 31,
   "metadata": {
    "collapsed": false
   },
   "outputs": [
    {
     "data": {
      "text/plain": [
       "Eq(C, Y*_cv2 + _cv1)"
      ]
     },
     "execution_count": 31,
     "metadata": {},
     "output_type": "execute_result"
    }
   ],
   "source": [
    "eq1"
   ]
  },
  {
   "cell_type": "code",
   "execution_count": 33,
   "metadata": {
    "collapsed": false
   },
   "outputs": [
    {
     "data": {
      "text/plain": [
       "Eq(C, 2)"
      ]
     },
     "execution_count": 33,
     "metadata": {},
     "output_type": "execute_result"
    }
   ],
   "source": [
    "eq1.subs([(_cv1,1),(_cv2,1),(Y,1)])"
   ]
  },
  {
   "cell_type": "code",
   "execution_count": null,
   "metadata": {
    "collapsed": true
   },
   "outputs": [],
   "source": [
    "\n",
    "\n",
    "x = np.arange(0,10,0.01) \n",
    "y = x*2 - 10\n",
    "_x = np.arange(0,10,0.01) \n",
    "_y = _x*(-2) + 5\n",
    "\n",
    "sym_x, sym_y = sy.symbols('sym_x sym_y')\n",
    "answer = sy.solve([sym_x*2 - 10 - sym_y, sym_x*(-2) + 5 - sym_y],[sym_x, sym_y])\n",
    "print(answer)\n",
    "val1 = float(answer[sym_x])\n",
    "val2 = float(answer[sym_y])\n",
    "print(val1,val2)\n",
    "\n",
    "plt.xlabel('X-Axis')\n",
    "plt.ylabel('Y-Axis')\n",
    "plt.plot(x,y, label=\"Line1,Equivalium is ({},{})\".format(val1,val2)) \n",
    "plt.plot(a,b, label=\"2\") \n",
    "plt.plot(val1,val2, \"o\")\n",
    "plt.text(val1+0.5,val2+0.5,\"Equivalium is ({},{})\".format(val1,val2),fontsize=10)\n",
    "plt.title(\"2 functions\")\n",
    "plt.legend(loc = 'upper left')\n",
    "plt.show() "
   ]
  }
 ],
 "metadata": {
  "kernelspec": {
   "display_name": "Python 3",
   "language": "python",
   "name": "python3"
  },
  "language_info": {
   "codemirror_mode": {
    "name": "ipython",
    "version": 3
   },
   "file_extension": ".py",
   "mimetype": "text/x-python",
   "name": "python",
   "nbconvert_exporter": "python",
   "pygments_lexer": "ipython3",
   "version": "3.5.2"
  }
 },
 "nbformat": 4,
 "nbformat_minor": 1
}
