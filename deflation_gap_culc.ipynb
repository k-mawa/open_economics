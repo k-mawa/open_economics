{
 "cells": [
  {
   "cell_type": "code",
   "execution_count": 64,
   "metadata": {
    "collapsed": false
   },
   "outputs": [],
   "source": [
    "import matplotlib.pyplot as plt  \n",
    "import numpy as np\n",
    "import sympy as sy\n",
    "from sympy import Eq, solve, Symbol, symbols, simplify\n",
    "%matplotlib inline"
   ]
  },
  {
   "cell_type": "code",
   "execution_count": 65,
   "metadata": {
    "collapsed": true
   },
   "outputs": [],
   "source": [
    "#Y:GDP\n",
    "#C：民間消費\n",
    "#I:民間投資\n",
    "#G：政府支出\n",
    "#r:利子率\n",
    "#M:名目マネーサプライ\n",
    "#P（＞0）物価水準\n",
    "#L実質貨幣需要\n",
    "#YF完全雇用GDP\n",
    "#■Y = C + I + G\n",
    "\n",
    "#・C = 10 + 0.8 Y\n",
    "#■C = _cv1 + (_cv2*Y)\n",
    "#ex _cv1=10, _cv2=0.8\n",
    "\n",
    "#・I = 60 - 5r \n",
    "#■I = _iv1 + (_iv2*r)\n",
    "#ex  _iv1=60,_iv2=-5\n",
    "#\n",
    "#■ G = 30 \n",
    "\n",
    "#・M / P = L\n",
    "#■M / P = L\n",
    "#■L = _lv1 + (_lv2*Y) + (_lv3*r)\n",
    "#ex  M=800, _lv1=100, _lv2=2, _lv3=-10\n",
    "\n",
    "#■P = (Y / _pv1) + _pv2\n",
    "#ex  _pv1=1500, _v2=0.75\n",
    "\n",
    "#■ YF = 400"
   ]
  },
  {
   "cell_type": "code",
   "execution_count": 96,
   "metadata": {
    "collapsed": false
   },
   "outputs": [
    {
     "name": "stdout",
     "output_type": "stream",
     "text": [
      "eq_yield is Gvar + Y*_cv2 - Y + _cv1 + _iv1 + _iv2*r\n",
      "\n",
      "m is (-M*_pv1 + (_lv1 + _lv2*(Gvar + Y*_cv2 - Y + _cv1 + _iv1 + _iv2*r) + _lv3*r)*(Gvar + Y*_cv2 - Y + _cv1 + _iv1 + _iv2*r + _pv1*_pv2))/_pv1\n",
      "\n",
      "Y_is_sub is -0.2*Y - 5*r + 100\n",
      "M_sub is (-0.4*Y - 20*r + 300)*(-0.2*Y - 5*r + 1225.0)/1500 - 800\n",
      "[]\n"
     ]
    }
   ],
   "source": [
    "var_cv1 = 10\n",
    "var_cv2 = 0.8\n",
    "var_iv1 = 60\n",
    "var_iv2 = -5\n",
    "var_G = 30\n",
    "var_M = 800\n",
    "var_lv1 = 100\n",
    "var_lv2 = 2\n",
    "var_lv3 = -10\n",
    "var_pv1 = 1500\n",
    "var_pv2 = 0.75\n",
    "var_YF = 400\n",
    "\n",
    "Y, C, I, r, _cv1, _cv2, _iv1, _iv2, G, Gvar, M, L, _lv1, _lv2, _lv3, P, _pv1, _pv2, Y, r, YF, YFvar, M_lm = symbols('Y C I r _cv1 _cv2 _iv1 _iv2 G Gvar M L _lv1 _lv2 _lv3 P _pv1 _pv2 Y r YF YFvar M_lm')\n",
    "\n",
    "#IS_line\n",
    "C = _cv1 + (_cv2*Y)\n",
    "I = _iv1 + (_iv2*r)\n",
    "G = Gvar\n",
    "Y_is = C + I + G - Y\n",
    "Y = simplify(Y_is)\n",
    "print(\"eq_yield is\",Y)\n",
    "print()\n",
    "#LM_line\n",
    "L = _lv1 + (_lv2*Y) + (_lv3*r)\n",
    "P = (Y / _pv1) + _pv2\n",
    "M_lm = P * L - M\n",
    "M_lm = simplify(M_lm)\n",
    "print(\"m is\",M_lm)\n",
    "\n",
    "YF = YFvar\n",
    "print()\n",
    "Y_is_sub = Y.subs([(_cv1,var_cv1),(_cv2,var_cv2),(_iv1,var_iv1),(_iv2,var_iv2),(Gvar,var_G)])\n",
    "print(\"Y_is_sub is\", Y_is_sub)\n",
    "\n",
    "M_sub = M_lm.subs([(_pv1,var_pv1),(_pv2,var_pv2),(_lv1,var_lv1),(_lv2,var_lv2),(_lv3,var_lv3),(_cv1,var_cv1),(_cv2,var_cv2),(_iv1,var_iv1),(_iv2,var_iv2),(Gvar,var_G),(M,var_M)])\n",
    "print(\"M_sub is\",M_sub)\n",
    "\n",
    "answer = solve([Y_is_sub, M_sub],[Y, r])\n",
    "print(answer)"
   ]
  },
  {
   "cell_type": "code",
   "execution_count": 121,
   "metadata": {
    "collapsed": false
   },
   "outputs": [
    {
     "name": "stdout",
     "output_type": "stream",
     "text": [
      "eq_yield is G + G_delta + YF*_cv2 - YF + _cv1 + _iv1\n",
      "\n",
      "sub_eq is G_delta - 10.0\n",
      "answer:Gdelta is 10.0\n"
     ]
    }
   ],
   "source": [
    "var_cv1 = 10 #require\n",
    "var_cv2 = 0.6 #require\n",
    "var_iv1 = 10 #require\n",
    "#var_iv2 = -5\n",
    "var_G = 10 #require\n",
    "#var_M = 800\n",
    "#var_lv1 = 100\n",
    "#var_lv2 = 2\n",
    "#var_lv3 = -10\n",
    "#var_pv1 = 1500\n",
    "#var_pv2 = 0.75\n",
    "var_YF = 100 #require\n",
    "\n",
    "Y=Symbol('Y')\n",
    "C=Symbol('C') #require\n",
    "I=Symbol('I') #require\n",
    "r=Symbol('r')\n",
    "_cv1=Symbol('_cv1') #require\n",
    "_cv2=Symbol('_cv2') #require\n",
    "_iv1=Symbol('_iv1') #require\n",
    "_iv2=Symbol('_iv2')\n",
    "G=Symbol('G') #require\n",
    "Gvar=Symbol('Gvar') \n",
    "M=Symbol('M')\n",
    "L=Symbol('L')\n",
    "_lv1=Symbol('_lv1')\n",
    "_lv2=Symbol('_lv2')\n",
    "_lv3=Symbol('_lv3') \n",
    "P=Symbol('P')\n",
    "_pv1=Symbol('_pv1')\n",
    "_pv2=Symbol('_pv2')\n",
    "r=Symbol('r')\n",
    "YF=Symbol('YF') #require\n",
    "YFvar=Symbol('YFvar') \n",
    "M_lm = Symbol('M_lm')\n",
    "G_delta = Symbol('G_delta') #require\n",
    "\n",
    "#IS_line\n",
    "C = _cv1 + (_cv2*YF)\n",
    "I = _iv1\n",
    "Y_eq = C + I + G + G_delta - YF\n",
    "Y_eq = simplify(Y_eq)\n",
    "print(\"eq_yield is\",Y_eq)\n",
    "print()\n",
    "sub_eq = Y_eq.subs([(_cv1,var_cv1),(_cv2,var_cv2),(_iv1,var_iv1),(G,var_G),(YF,var_YF)])\n",
    "print(\"sub_eq is\",sub_eq)\n",
    "answer = solve(sub_eq, G_delta)\n",
    "print(\"answer:Gdelta is\",float(answer[0]))"
   ]
  },
  {
   "cell_type": "code",
   "execution_count": 31,
   "metadata": {
    "collapsed": false
   },
   "outputs": [
    {
     "data": {
      "text/plain": [
       "Eq(C, Y*_cv2 + _cv1)"
      ]
     },
     "execution_count": 31,
     "metadata": {},
     "output_type": "execute_result"
    }
   ],
   "source": [
    "eq1"
   ]
  },
  {
   "cell_type": "code",
   "execution_count": 33,
   "metadata": {
    "collapsed": false
   },
   "outputs": [
    {
     "data": {
      "text/plain": [
       "Eq(C, 2)"
      ]
     },
     "execution_count": 33,
     "metadata": {},
     "output_type": "execute_result"
    }
   ],
   "source": [
    "eq1.subs([(_cv1,1),(_cv2,1),(Y,1)])"
   ]
  },
  {
   "cell_type": "code",
   "execution_count": null,
   "metadata": {
    "collapsed": true
   },
   "outputs": [],
   "source": [
    "\n",
    "\n",
    "x = np.arange(0,10,0.01) \n",
    "y = x*2 - 10\n",
    "_x = np.arange(0,10,0.01) \n",
    "_y = _x*(-2) + 5\n",
    "\n",
    "sym_x, sym_y = sy.symbols('sym_x sym_y')\n",
    "answer = sy.solve([sym_x*2 - 10 - sym_y, sym_x*(-2) + 5 - sym_y],[sym_x, sym_y])\n",
    "print(answer)\n",
    "val1 = float(answer[sym_x])\n",
    "val2 = float(answer[sym_y])\n",
    "print(val1,val2)\n",
    "\n",
    "plt.xlabel('X-Axis')\n",
    "plt.ylabel('Y-Axis')\n",
    "plt.plot(x,y, label=\"Line1,Equivalium is ({},{})\".format(val1,val2)) \n",
    "plt.plot(a,b, label=\"2\") \n",
    "plt.plot(val1,val2, \"o\")\n",
    "plt.text(val1+0.5,val2+0.5,\"Equivalium is ({},{})\".format(val1,val2),fontsize=10)\n",
    "plt.title(\"2 functions\")\n",
    "plt.legend(loc = 'upper left')\n",
    "plt.show() "
   ]
  }
 ],
 "metadata": {
  "kernelspec": {
   "display_name": "Python 3",
   "language": "python",
   "name": "python3"
  },
  "language_info": {
   "codemirror_mode": {
    "name": "ipython",
    "version": 3
   },
   "file_extension": ".py",
   "mimetype": "text/x-python",
   "name": "python",
   "nbconvert_exporter": "python",
   "pygments_lexer": "ipython3",
   "version": "3.5.2"
  }
 },
 "nbformat": 4,
 "nbformat_minor": 1
}
