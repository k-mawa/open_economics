{
 "cells": [
  {
   "cell_type": "code",
   "execution_count": 64,
   "metadata": {
    "collapsed": false
   },
   "outputs": [],
   "source": [
    "import matplotlib.pyplot as plt  \n",
    "import numpy as np\n",
    "import sympy as sy\n",
    "from sympy import Eq, solve, Symbol, symbols, simplify\n",
    "%matplotlib inline"
   ]
  },
  {
   "cell_type": "code",
   "execution_count": 65,
   "metadata": {
    "collapsed": true
   },
   "outputs": [],
   "source": [
    "#Y:GDP\n",
    "#C：民間消費\n",
    "#I:民間投資\n",
    "#G：政府支出\n",
    "#r:利子率\n",
    "#M:名目マネーサプライ\n",
    "#P（＞0）物価水準\n",
    "#L実質貨幣需要\n",
    "#YF完全雇用GDP\n",
    "#■Y = C + I + G\n",
    "\n",
    "#・C = 10 + 0.8 Y\n",
    "#■C = _cv1 + (_cv2*Y)\n",
    "#ex _cv1=10, _cv2=0.8\n",
    "\n",
    "#・I = 60 - 5r \n",
    "#■I = _iv1 + (_iv2*r)\n",
    "#ex  _iv1=60,_iv2=-5\n",
    "#\n",
    "#■ G = 30 \n",
    "\n",
    "#・M / P = L\n",
    "#■M / P = L\n",
    "#■L = _lv1 + (_lv2*Y) + (_lv3*r)\n",
    "#ex  M=800, _lv1=100, _lv2=2, _lv3=-10\n",
    "\n",
    "#■P = (Y / _pv1) + _pv2\n",
    "#ex  _pv1=1500, _v2=0.75\n",
    "\n",
    "#■ YF = 400"
   ]
  },
  {
   "cell_type": "code",
   "execution_count": 89,
   "metadata": {
    "collapsed": false
   },
   "outputs": [
    {
     "name": "stdout",
     "output_type": "stream",
     "text": [
      "eq_yield is Gvar + Y*_cv2 + _cv1 + _iv1 + _iv2*r\n",
      "\n",
      "m is (_lv1 + _lv2*(Gvar + Y*_cv2 + _cv1 + _iv1 + _iv2*r) + _lv3*r)*(Gvar + Y*_cv2 + _cv1 + _iv1 + _iv2*r + _pv1*_pv2)/_pv1\n",
      "\n",
      "Y_is_sub is 0.8*Y - 5*r + 100\n",
      "M_sub is (0.8*Y - 5*r + 1225.0)*(1.6*Y - 20*r + 300)/1500\n",
      "[(0.2*Y - 0.2*sqrt(Y**2 + 5750.0*Y + 15765625.0) - 550.0, 0.12*Y + 0.04*sqrt(Y**2 + 5750.0*Y + 15765625.0) + 130.0), (0.2*Y + 0.2*sqrt(Y**2 + 5750.0*Y + 15765625.0) - 550.0, 0.12*Y - 0.04*sqrt(Y**2 + 5750.0*Y + 15765625.0) + 130.0)]\n"
     ]
    }
   ],
   "source": [
    "var_cv1 = 10\n",
    "var_cv2 = 0.8\n",
    "var_iv1 = 60\n",
    "var_iv2 = -5\n",
    "var_G = 30\n",
    "var_M = 800\n",
    "var_lv1 = 100\n",
    "var_lv2 = 2\n",
    "var_lv3 = -10\n",
    "var_pv1 = 1500\n",
    "var_pv2 = 0.75\n",
    "var_YF = 400\n",
    "\n",
    "Y, C, I, r, _cv1, _cv2, _iv1, _iv2, G, Gvar, M, L, _lv1, _lv2, _lv3, P, _pv1, _pv2, Y, r, YF, YFvar = symbols('Y C I r _cv1 _cv2 _iv1 _iv2 G Gvar M L _lv1 _lv2 _lv3 P _pv1 _pv2 Y r YF YFvar')\n",
    "\n",
    "#IS_line\n",
    "C = _cv1 + (_cv2*Y)\n",
    "I = _iv1 + (_iv2*r)\n",
    "G = Gvar\n",
    "Y = C + I + G\n",
    "Y = simplify(Y)\n",
    "print(\"eq_yield is\",Y)\n",
    "print()\n",
    "#LM_line\n",
    "L = _lv1 + (_lv2*Y) + (_lv3*r)\n",
    "P = (Y / _pv1) + _pv2\n",
    "M = P * L\n",
    "M = simplify(M)\n",
    "print(\"m is\",M)\n",
    "\n",
    "YF = YFvar\n",
    "print()\n",
    "Y_is_sub = Y.subs([(_cv1,var_cv1),(_cv2,var_cv2),(_iv1,var_iv1),(_iv2,var_iv2),(Gvar,var_G)])\n",
    "print(\"Y_is_sub is\", Y_is_sub)\n",
    "\n",
    "M_sub = M.subs([(_pv1,var_pv1),(_pv2,var_pv2),(_lv1,var_lv1),(_lv2,var_lv2),(_lv3,var_lv3),(_cv1,var_cv1),(_cv2,var_cv2),(_iv1,var_iv1),(_iv2,var_iv2),(Gvar,var_G)])\n",
    "print(\"M_sub is\",M_sub)\n",
    "\n",
    "answer = solve([Y_is_sub-Y, M_sub-var_M],[Y, r])\n",
    "print(answer)"
   ]
  },
  {
   "cell_type": "code",
   "execution_count": 30,
   "metadata": {
    "collapsed": false
   },
   "outputs": [
    {
     "data": {
      "text/plain": [
       "Eq(y, 5)"
      ]
     },
     "execution_count": 30,
     "metadata": {},
     "output_type": "execute_result"
    }
   ],
   "source": [
    "x = Symbol('x')\n",
    "y = Symbol('y')\n",
    "a = Eq(y, 2*x + 1)\n",
    "a\n",
    "a.subs(x, 2)"
   ]
  },
  {
   "cell_type": "code",
   "execution_count": 31,
   "metadata": {
    "collapsed": false
   },
   "outputs": [
    {
     "data": {
      "text/plain": [
       "Eq(C, Y*_cv2 + _cv1)"
      ]
     },
     "execution_count": 31,
     "metadata": {},
     "output_type": "execute_result"
    }
   ],
   "source": [
    "eq1"
   ]
  },
  {
   "cell_type": "code",
   "execution_count": 33,
   "metadata": {
    "collapsed": false
   },
   "outputs": [
    {
     "data": {
      "text/plain": [
       "Eq(C, 2)"
      ]
     },
     "execution_count": 33,
     "metadata": {},
     "output_type": "execute_result"
    }
   ],
   "source": [
    "eq1.subs([(_cv1,1),(_cv2,1),(Y,1)])"
   ]
  },
  {
   "cell_type": "code",
   "execution_count": null,
   "metadata": {
    "collapsed": true
   },
   "outputs": [],
   "source": [
    "\n",
    "\n",
    "x = np.arange(0,10,0.01) \n",
    "y = x*2 - 10\n",
    "_x = np.arange(0,10,0.01) \n",
    "_y = _x*(-2) + 5\n",
    "\n",
    "sym_x, sym_y = sy.symbols('sym_x sym_y')\n",
    "answer = sy.solve([sym_x*2 - 10 - sym_y, sym_x*(-2) + 5 - sym_y],[sym_x, sym_y])\n",
    "print(answer)\n",
    "val1 = float(answer[sym_x])\n",
    "val2 = float(answer[sym_y])\n",
    "print(val1,val2)\n",
    "\n",
    "plt.xlabel('X-Axis')\n",
    "plt.ylabel('Y-Axis')\n",
    "plt.plot(x,y, label=\"Line1,Equivalium is ({},{})\".format(val1,val2)) \n",
    "plt.plot(a,b, label=\"2\") \n",
    "plt.plot(val1,val2, \"o\")\n",
    "plt.text(val1+0.5,val2+0.5,\"Equivalium is ({},{})\".format(val1,val2),fontsize=10)\n",
    "plt.title(\"2 functions\")\n",
    "plt.legend(loc = 'upper left')\n",
    "plt.show() "
   ]
  }
 ],
 "metadata": {
  "kernelspec": {
   "display_name": "Python 3",
   "language": "python",
   "name": "python3"
  },
  "language_info": {
   "codemirror_mode": {
    "name": "ipython",
    "version": 3
   },
   "file_extension": ".py",
   "mimetype": "text/x-python",
   "name": "python",
   "nbconvert_exporter": "python",
   "pygments_lexer": "ipython3",
   "version": "3.5.2"
  }
 },
 "nbformat": 4,
 "nbformat_minor": 1
}
